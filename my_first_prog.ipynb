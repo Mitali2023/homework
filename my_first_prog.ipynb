{
 "cells": [
  {
   "cell_type": "code",
   "execution_count": 1,
   "id": "d0c36c40-1b11-4e9f-9e82-cceae20fed2e",
   "metadata": {},
   "outputs": [
    {
     "name": "stdout",
     "output_type": "stream",
     "text": [
      "this is my first code\n"
     ]
    }
   ],
   "source": [
    "print(\"this is my first code\")"
   ]
  },
  {
   "cell_type": "code",
   "execution_count": null,
   "id": "a89e6626-f84e-4738-a287-2f2985d1a355",
   "metadata": {},
   "outputs": [],
   "source": [
    "print(\"Visit doctor...\")\n",
    "medicount=0\n",
    "day=1\n",
    "while(day<6):\n",
    "    print(\"Good morning\")\n",
    "    med=1\n",
    "    while(med<4):\n",
    "        print(f\"Day number -> {day} and Medicine Number -> {med} ....\")\n",
    "        med=med+1\n",
    "        medicount = medicount+1\n",
    "    print(\"Good night\")\n",
    "    print(\".....................\")\n",
    "    day=day+1\n",
    "print(\"Medicount = \",medicount)\n",
    "print(\"Thanks to Doctor .....\")\n",
    "    "
   ]
  },
  {
   "cell_type": "code",
   "execution_count": 1,
   "id": "42965f41-aee0-4f42-8018-43897c11e5d4",
   "metadata": {},
   "outputs": [
    {
     "name": "stdout",
     "output_type": "stream",
     "text": [
      "Visit doctor...\n",
      "Good morning\n",
      "Day number -> 1 and Medicine Number -> 1 ....\n",
      "Day number -> 1 and Medicine Number -> 2 ....\n",
      "Day number -> 1 and Medicine Number -> 3 ....\n",
      "Good night\n",
      ".....................\n",
      "Good morning\n",
      "Day number -> 2 and Medicine Number -> 1 ....\n",
      "Day number -> 2 and Medicine Number -> 2 ....\n",
      "Day number -> 2 and Medicine Number -> 3 ....\n",
      "Good night\n",
      ".....................\n",
      "Good morning\n",
      "Day number -> 3 and Medicine Number -> 1 ....\n",
      "Day number -> 3 and Medicine Number -> 2 ....\n",
      "Day number -> 3 and Medicine Number -> 3 ....\n",
      "Good night\n",
      ".....................\n",
      "Good morning\n",
      "Day number -> 4 and Medicine Number -> 1 ....\n",
      "Day number -> 4 and Medicine Number -> 2 ....\n",
      "Day number -> 4 and Medicine Number -> 3 ....\n",
      "Good night\n",
      ".....................\n",
      "Good morning\n",
      "Day number -> 5 and Medicine Number -> 1 ....\n",
      "Day number -> 5 and Medicine Number -> 2 ....\n",
      "Day number -> 5 and Medicine Number -> 3 ....\n",
      "Good night\n",
      ".....................\n",
      "Medicount =  15\n",
      "Thanks to Doctor .....\n"
     ]
    }
   ],
   "source": [
    "print(\"Visit doctor...\")\n",
    "medicount=0\n",
    "day=1\n",
    "while(day<6):\n",
    "    print(\"Good morning\")\n",
    "    med=1\n",
    "    while(med<4):\n",
    "        print(f\"Day number -> {day} and Medicine Number -> {med} ....\")\n",
    "        med=med+1\n",
    "        medicount = medicount+1\n",
    "    print(\"Good night\")\n",
    "    print(\".....................\")\n",
    "    day=day+1\n",
    "print(\"Medicount = \",medicount)\n",
    "print(\"Thanks to Doctor .....\")"
   ]
  },
  {
   "cell_type": "code",
   "execution_count": 6,
   "id": "a5e7be61-fea1-4720-a199-803a2b6d3be0",
   "metadata": {},
   "outputs": [
    {
     "name": "stdin",
     "output_type": "stream",
     "text": [
      "enter the line number 15\n"
     ]
    },
    {
     "name": "stdout",
     "output_type": "stream",
     "text": [
      "*\n",
      "**\n",
      "***\n",
      "****\n",
      "*****\n",
      "******\n",
      "*******\n",
      "********\n",
      "*******\n",
      "******\n",
      "*****\n",
      "****\n",
      "***\n",
      "**\n",
      "*\n"
     ]
    }
   ],
   "source": [
    "n=int(input(\"enter the line number\"))\n",
    "m = n//2 +1\n",
    "for i in range(1,m+1):\n",
    "      print(\"*\"*i)\n",
    "flag=2      \n",
    "for i in range(m+1,n+1):\n",
    "      print(\"*\"*(i-flag))\n",
    "      flag+=2"
   ]
  },
  {
   "cell_type": "code",
   "execution_count": null,
   "id": "398cf14e-e15f-465f-aef8-63426e71874d",
   "metadata": {},
   "outputs": [],
   "source": []
  }
 ],
 "metadata": {
  "kernelspec": {
   "display_name": "Python 3 (ipykernel)",
   "language": "python",
   "name": "python3"
  },
  "language_info": {
   "codemirror_mode": {
    "name": "ipython",
    "version": 3
   },
   "file_extension": ".py",
   "mimetype": "text/x-python",
   "name": "python",
   "nbconvert_exporter": "python",
   "pygments_lexer": "ipython3",
   "version": "3.10.9"
  }
 },
 "nbformat": 4,
 "nbformat_minor": 5
}
